{
 "cells": [
  {
   "cell_type": "code",
   "execution_count": null,
   "metadata": {},
   "outputs": [],
   "source": [
    "import numpy as np\n",
    "import matplotlib.pyplot as plt\n",
    "\n",
    "from skimage import io\n",
    "from skimage import measure\n",
    "\n",
    "from at_synapse_detection import dataAccess as da"
   ]
  },
  {
   "cell_type": "code",
   "execution_count": null,
   "metadata": {},
   "outputs": [],
   "source": [
    "%matplotlib notebook"
   ]
  },
  {
   "cell_type": "code",
   "execution_count": null,
   "metadata": {},
   "outputs": [],
   "source": [
    "# Load the annotation images and convert them into a dictionary object. \n",
    "# Each key corresponds to the ID number in the annotation. "
   ]
  },
  {
   "cell_type": "code",
   "execution_count": null,
   "metadata": {},
   "outputs": [],
   "source": [
    "fn_base = 'labels/collman_M247514_Rorb_1_Site3Align2_EM_m247514_Site3Annotation_MN_global_x0-14020_y0-14723_z' #00.tif'\n",
    "labels_dict = dict()\n",
    "\n",
    "for z in range(0, 49):\n",
    "    print(\"Loading: \", str(z))\n",
    "    fn = fn_base + str(z).zfill(2) + '.tif'\n",
    "    im = io.imread(fn)\n",
    "    all_labels = measure.label(im>0)\n",
    "    stats = measure.regionprops(all_labels, im)\n",
    "    #print(\"Loaded: \", str(z))\n",
    "\n",
    "    for stat in stats: \n",
    "        coords = stat.coords\n",
    "        cordlist = [] \n",
    "        idval = stat.mean_intensity\n",
    "        \n",
    "        if stat.min_intensity != stat.max_intensity: \n",
    "#             print('Label: ', stat.label, ' Min Value: ', stat.min_intensity, ' Max Value: ', stat.max_intensity)\n",
    "#             print(stat.bbox)\n",
    "            idval = stat.min_intensity\n",
    "\n",
    "        for pt in coords: \n",
    "            pt = np.append(pt, z)\n",
    "            cordlist.append(pt)\n",
    "\n",
    "        # test to see if key exists\n",
    "        if idval in labels_dict.keys(): \n",
    "            coords = labels_dict[idval]\n",
    "            foo = np.concatenate((coords, cordlist))\n",
    "            labels_dict[idval] = foo\n",
    "            #print('yaya')\n",
    "\n",
    "        else: \n",
    "            labels_dict[idval] = cordlist\n",
    "\n"
   ]
  },
  {
   "cell_type": "code",
   "execution_count": null,
   "metadata": {},
   "outputs": [],
   "source": []
  },
  {
   "cell_type": "code",
   "execution_count": null,
   "metadata": {},
   "outputs": [],
   "source": [
    "# save dict \n",
    "np.save('labels_dict.npy', labels_dict)"
   ]
  },
  {
   "cell_type": "code",
   "execution_count": null,
   "metadata": {},
   "outputs": [],
   "source": []
  },
  {
   "cell_type": "code",
   "execution_count": null,
   "metadata": {},
   "outputs": [],
   "source": [
    "\"\"\"Convert labels from EM space to LM space \n",
    "Factor = 0.03125 or 3/96\n",
    "\n",
    "For each point, multiply xy by the factor\"\"\" \n",
    "lm_labels_dict = dict() \n",
    "\n",
    "\n",
    "for key in labels_dict.keys(): \n",
    "    \n",
    "    annotations = np.array(labels_dict[key])\n",
    "    annotations[:, 0] = annotations[:, 0] * 0.03125\n",
    "    annotations[:, 1] = annotations[:, 1] * 0.03125\n",
    "    annotations = np.unique(annotations, axis=0)\n",
    "    lm_labels_dict[key] = annotations\n",
    "    "
   ]
  },
  {
   "cell_type": "code",
   "execution_count": null,
   "metadata": {},
   "outputs": [],
   "source": [
    "keylist = lm_labels_dict.keys()"
   ]
  },
  {
   "cell_type": "code",
   "execution_count": null,
   "metadata": {},
   "outputs": [],
   "source": [
    "len(keylist)"
   ]
  },
  {
   "cell_type": "code",
   "execution_count": null,
   "metadata": {
    "scrolled": true
   },
   "outputs": [],
   "source": [
    "min(keylist)"
   ]
  },
  {
   "cell_type": "code",
   "execution_count": null,
   "metadata": {},
   "outputs": [],
   "source": [
    "np.save('lm_labels_dict.npy', lm_labels_dict);"
   ]
  },
  {
   "cell_type": "code",
   "execution_count": null,
   "metadata": {},
   "outputs": [],
   "source": []
  },
  {
   "cell_type": "code",
   "execution_count": null,
   "metadata": {},
   "outputs": [],
   "source": [
    "# Create annovol \n",
    "labelvol = np.zeros((460, 438, 49))"
   ]
  },
  {
   "cell_type": "code",
   "execution_count": null,
   "metadata": {},
   "outputs": [],
   "source": [
    "for key in lm_labels_dict.keys(): \n",
    "    \n",
    "    anno = lm_labels_dict[key]\n",
    "    for n in range(0, anno.shape[0]): \n",
    "        #print(anno[n])\n",
    "        labelvol[anno[n][0], anno[n][1], anno[n][2]] = 1"
   ]
  },
  {
   "cell_type": "code",
   "execution_count": null,
   "metadata": {},
   "outputs": [],
   "source": []
  },
  {
   "cell_type": "code",
   "execution_count": null,
   "metadata": {},
   "outputs": [],
   "source": [
    "plt.figure()\n",
    "plt.imshow(labelvol[:, :, 1])"
   ]
  },
  {
   "cell_type": "code",
   "execution_count": null,
   "metadata": {},
   "outputs": [],
   "source": [
    "anno = lm_labels_dict[4]"
   ]
  },
  {
   "cell_type": "code",
   "execution_count": null,
   "metadata": {},
   "outputs": [],
   "source": [
    "anno"
   ]
  },
  {
   "cell_type": "code",
   "execution_count": null,
   "metadata": {},
   "outputs": [],
   "source": []
  },
  {
   "cell_type": "code",
   "execution_count": null,
   "metadata": {},
   "outputs": [],
   "source": [
    "# Determine the mask \n",
    "\n",
    "# Loop over all the annotations \n",
    "global_minx = float('inf')\n",
    "global_miny = float('inf')\n",
    "\n",
    "global_maxx = 0\n",
    "global_maxy = 0 \n",
    "\n",
    "for key in lm_labels_dict.keys(): \n",
    "    \n",
    "    anno = lm_labels_dict[key]\n",
    "#     print(np.min(anno[:, 0]))\n",
    "    if np.min(anno[:, 0]) < global_minx: \n",
    "        global_minx = np.min(anno[:, 0])\n",
    "\n",
    "    if np.min(anno[:, 1]) < global_miny: \n",
    "        global_miny = np.min(anno[:, 1])\n",
    "\n",
    "    if np.max(anno[:, 0]) > global_maxx: \n",
    "        global_maxx = np.max(anno[:, 0])\n",
    "\n",
    "    if np.max(anno[:, 1]) > global_maxy: \n",
    "        global_maxy = np.max(anno[:, 1])\n",
    "            \n",
    "            "
   ]
  },
  {
   "cell_type": "code",
   "execution_count": null,
   "metadata": {},
   "outputs": [],
   "source": [
    "print(global_minx, global_maxx)\n",
    "print(global_miny, global_maxy)\n"
   ]
  },
  {
   "cell_type": "code",
   "execution_count": null,
   "metadata": {},
   "outputs": [],
   "source": [
    "keylist = lm_labels_dict.keys()"
   ]
  },
  {
   "cell_type": "code",
   "execution_count": null,
   "metadata": {},
   "outputs": [],
   "source": [
    "len(keylist)"
   ]
  },
  {
   "cell_type": "code",
   "execution_count": null,
   "metadata": {},
   "outputs": [],
   "source": []
  },
  {
   "cell_type": "code",
   "execution_count": null,
   "metadata": {},
   "outputs": [],
   "source": []
  }
 ],
 "metadata": {
  "kernelspec": {
   "display_name": "Python [conda env:synapse_analysis]",
   "language": "python",
   "name": "conda-env-synapse_analysis-py"
  },
  "language_info": {
   "codemirror_mode": {
    "name": "ipython",
    "version": 3
   },
   "file_extension": ".py",
   "mimetype": "text/x-python",
   "name": "python",
   "nbconvert_exporter": "python",
   "pygments_lexer": "ipython3",
   "version": "3.5.4"
  }
 },
 "nbformat": 4,
 "nbformat_minor": 2
}
