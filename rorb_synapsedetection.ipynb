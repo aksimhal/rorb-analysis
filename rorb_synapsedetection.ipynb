{
 "cells": [
  {
   "cell_type": "code",
   "execution_count": 2,
   "metadata": {},
   "outputs": [],
   "source": [
    "import numpy as np\n",
    "import matplotlib.pyplot as plt\n",
    "import time \n",
    "import sys\n",
    "import neuroglancer\n",
    "\n",
    "from tqdm import tqdm\n",
    "from skimage import io\n",
    "from ndpull import ndpull\n",
    "import pandas as pd \n",
    "from skimage import measure\n",
    "from scipy.ndimage import morphology\n",
    "from at_synapse_detection import dataAccess as da\n",
    "from at_synapse_detection import SynapseDetection as syn"
   ]
  },
  {
   "cell_type": "code",
   "execution_count": 3,
   "metadata": {},
   "outputs": [],
   "source": [
    "%matplotlib notebook"
   ]
  },
  {
   "cell_type": "code",
   "execution_count": 4,
   "metadata": {},
   "outputs": [],
   "source": [
    "# LM image filepaths \n",
    "psd_fn = 'collman_M247514_Rorb_1_Site3Align2_LENS_Session1_CROP_0_438_0_460_0_49/collman_M247514_Rorb_1_Site3Align2_LENS_Session1_CROP_0_438_0_460_0_49_PSD95_0.tiff'\n",
    "synapsin_fn = 'collman_M247514_Rorb_1_Site3Align2_LENS_Session1_CROP_0_438_0_460_0_49/collman_M247514_Rorb_1_Site3Align2_LENS_Session1_CROP_0_438_0_460_0_49_synapsin_0.tiff'\n",
    "\n",
    "# gaba_fn = 'collman_M247514_Rorb_1_Site3Align2_LENS_Session1_CROP_0_438_0_460_0_49/collman_M247514_Rorb_1_Site3Align2_LENS_Session1_CROP_0_438_0_460_0_49_GABA_0.tiff'\n",
    "# gad_fn = 'collman_M247514_Rorb_1_Site3Align2_LENS_Session1_CROP_0_438_0_460_0_49/collman_M247514_Rorb_1_Site3Align2_LENS_Session1_CROP_0_438_0_460_0_49_GAD2_0.tiff'\n",
    "# gephyrin_fn = 'collman_M247514_Rorb_1_Site3Align2_LENS_Session1_CROP_0_438_0_460_0_49/collman_M247514_Rorb_1_Site3Align2_LENS_Session1_CROP_0_438_0_460_0_49_Gephyrin_0.tiff'\n",
    "# glun1_fn = 'collman_M247514_Rorb_1_Site3Align2_LENS_Session1_CROP_0_438_0_460_0_49/collman_M247514_Rorb_1_Site3Align2_LENS_Session1_CROP_0_438_0_460_0_49_GluN1_0.tiff'\n",
    "# vglut1_fn = 'collman_M247514_Rorb_1_Site3Align2_LENS_Session1_CROP_0_438_0_460_0_49/collman_M247514_Rorb_1_Site3Align2_LENS_Session1_CROP_0_438_0_460_0_49_VGlut1_0.tiff'"
   ]
  },
  {
   "cell_type": "code",
   "execution_count": 5,
   "metadata": {},
   "outputs": [],
   "source": [
    "fn_list = [psd_fn, synapsin_fn] #, gaba_fn, gad_fn, gephyrin_fn, glun1_fn, vglut1_fn]\n",
    "fn_name = ['PSD-95', 'Synapsin'] #, 'GABA', 'GAD', 'Gephyrin', 'GLUN1', 'VGLUT1']"
   ]
  },
  {
   "cell_type": "code",
   "execution_count": 6,
   "metadata": {},
   "outputs": [],
   "source": [
    "psd_vol = da.imreadtiff(psd_fn)\n",
    "synapsin_vol = da.imreadtiff(synapsin_fn)"
   ]
  },
  {
   "cell_type": "code",
   "execution_count": 7,
   "metadata": {},
   "outputs": [],
   "source": [
    "# Load annotations \n",
    "lm_labels_dict = np.load('lm_labels_dict.npy').item()"
   ]
  },
  {
   "cell_type": "code",
   "execution_count": 11,
   "metadata": {},
   "outputs": [
    {
     "name": "stdout",
     "output_type": "stream",
     "text": [
      "starting z ind: 0\n",
      "starting z ind: 1\n",
      "starting z ind: 2\n",
      "starting z ind: 3\n",
      "starting z ind: 4\n",
      "starting z ind: 5\n",
      "starting z ind: 6\n",
      "starting z ind: 7\n",
      "starting z ind: 8\n",
      "starting z ind: 9\n",
      "starting z ind: 10\n",
      "starting z ind: 11\n",
      "starting z ind: 12\n",
      "starting z ind: 13\n",
      "starting z ind: 14\n",
      "starting z ind: 15\n",
      "starting z ind: 16\n",
      "starting z ind: 17\n",
      "starting z ind: 18\n",
      "starting z ind: 19\n",
      "starting z ind: 20\n",
      "starting z ind: 21\n",
      "starting z ind: 22\n",
      "starting z ind: 23\n",
      "starting z ind: 24\n",
      "starting z ind: 25\n",
      "starting z ind: 26\n",
      "starting z ind: 27\n",
      "starting z ind: 28\n",
      "starting z ind: 29\n",
      "starting z ind: 30\n",
      "starting z ind: 31\n",
      "starting z ind: 32\n",
      "starting z ind: 33\n",
      "starting z ind: 34\n",
      "starting z ind: 35\n",
      "starting z ind: 36\n",
      "starting z ind: 37\n",
      "starting z ind: 38\n",
      "starting z ind: 39\n",
      "starting z ind: 40\n",
      "starting z ind: 41\n",
      "starting z ind: 42\n",
      "starting z ind: 43\n",
      "starting z ind: 44\n",
      "starting z ind: 45\n",
      "starting z ind: 46\n",
      "starting z ind: 47\n",
      "starting z ind: 48\n",
      "Number of detections:  2176\n",
      "Hit Count:  819\n",
      "Miss Count:  222\n",
      "Done with  PSD-95\n",
      "starting z ind: 0\n",
      "starting z ind: 1\n",
      "starting z ind: 2\n",
      "starting z ind: 3\n",
      "starting z ind: 4\n",
      "starting z ind: 5\n",
      "starting z ind: 6\n",
      "starting z ind: 7\n",
      "starting z ind: 8\n",
      "starting z ind: 9\n",
      "starting z ind: 10\n",
      "starting z ind: 11\n",
      "starting z ind: 12\n",
      "starting z ind: 13\n",
      "starting z ind: 14\n",
      "starting z ind: 15\n",
      "starting z ind: 16\n",
      "starting z ind: 17\n",
      "starting z ind: 18\n",
      "starting z ind: 19\n",
      "starting z ind: 20\n",
      "starting z ind: 21\n",
      "starting z ind: 22\n",
      "starting z ind: 23\n",
      "starting z ind: 24\n",
      "starting z ind: 25\n",
      "starting z ind: 26\n",
      "starting z ind: 27\n",
      "starting z ind: 28\n",
      "starting z ind: 29\n",
      "starting z ind: 30\n",
      "starting z ind: 31\n",
      "starting z ind: 32\n",
      "starting z ind: 33\n",
      "starting z ind: 34\n",
      "starting z ind: 35\n",
      "starting z ind: 36\n",
      "starting z ind: 37\n",
      "starting z ind: 38\n",
      "starting z ind: 39\n",
      "starting z ind: 40\n",
      "starting z ind: 41\n",
      "starting z ind: 42\n",
      "starting z ind: 43\n",
      "starting z ind: 44\n",
      "starting z ind: 45\n",
      "starting z ind: 46\n",
      "starting z ind: 47\n",
      "starting z ind: 48\n",
      "Number of detections:  1205\n",
      "Hit Count:  731\n",
      "Miss Count:  310\n",
      "Done with  Synapsin\n"
     ]
    }
   ],
   "source": [
    "# Evaluate LM signal overlap with labels\n",
    "overlap_signal_mat = np.zeros((len(lm_labels_dict.keys()), len(fn_list)))\n",
    "\n",
    "for fn_ind, fn in enumerate(fn_list): \n",
    "    vol = da.imreadtiff(fn)\n",
    "    synaptic_volumes = {'presynaptic': [], 'postsynaptic': [vol]}\n",
    "    min_num_of_slices = 1\n",
    "    # Create query\n",
    "    query = {'preIF': ['presynaptic'], 'preIF_z': [],\n",
    "             'postIF': ['postsynaptic'], 'postIF_z': [min_num_of_slices],\n",
    "             'punctumSize': 2}\n",
    "    \n",
    "    resultVol = syn.getSynapseDetections(synaptic_volumes, query)\n",
    "    \n",
    "    output_mat, detections = evaluate_detections(resultVol)\n",
    "    overlap_signal_mat[:, fn_ind] = np.sum(output_mat, 1)\n",
    "    print('Done with ', fn_name[fn_ind])"
   ]
  },
  {
   "cell_type": "code",
   "execution_count": 12,
   "metadata": {},
   "outputs": [],
   "source": [
    "# Evaluate Synapse Detection "
   ]
  },
  {
   "cell_type": "code",
   "execution_count": 13,
   "metadata": {},
   "outputs": [],
   "source": [
    "synapse_detections = detections"
   ]
  },
  {
   "cell_type": "code",
   "execution_count": null,
   "metadata": {},
   "outputs": [
    {
     "name": "stdout",
     "output_type": "stream",
     "text": [
      "starting z ind: 0\n",
      "starting z ind: 1\n",
      "starting z ind: 2\n",
      "starting z ind: 3\n",
      "starting z ind: 4\n",
      "starting z ind: 5\n",
      "starting z ind: 6\n",
      "starting z ind: 7\n",
      "starting z ind: 8\n",
      "starting z ind: 9\n",
      "starting z ind: 10\n",
      "starting z ind: 11\n",
      "starting z ind: 12\n",
      "starting z ind: 13\n",
      "starting z ind: 14\n",
      "starting z ind: 15\n",
      "starting z ind: 16\n",
      "starting z ind: 17\n",
      "starting z ind: 18\n",
      "starting z ind: 19\n",
      "starting z ind: 20\n",
      "starting z ind: 21\n",
      "starting z ind: 22\n",
      "starting z ind: 23\n",
      "starting z ind: 24\n",
      "starting z ind: 25\n",
      "starting z ind: 26\n",
      "starting z ind: 27\n",
      "starting z ind: 28\n",
      "starting z ind: 29\n",
      "starting z ind: 30\n",
      "starting z ind: 31\n",
      "starting z ind: 32\n",
      "starting z ind: 33\n",
      "starting z ind: 34\n",
      "starting z ind: 35\n",
      "starting z ind: 36\n",
      "starting z ind: 37\n",
      "starting z ind: 38\n",
      "starting z ind: 39\n",
      "starting z ind: 40\n",
      "starting z ind: 41\n",
      "starting z ind: 42\n",
      "starting z ind: 43\n",
      "starting z ind: 44\n",
      "starting z ind: 45\n",
      "starting z ind: 46\n",
      "starting z ind: 47\n",
      "starting z ind: 48\n",
      "Number of detections:  906\n"
     ]
    }
   ],
   "source": [
    "synapse_signal_mat = np.zeros((len(lm_labels_dict.keys()), 1))\n",
    "\n",
    "synaptic_volumes = {'presynaptic': [synapsin_vol], 'postsynaptic': [psd_vol]}\n",
    "min_num_of_slices = 1\n",
    "# Create query\n",
    "query = {'preIF': ['presynaptic'], 'preIF_z': [min_num_of_slices],\n",
    "         'postIF': ['postsynaptic'], 'postIF_z': [min_num_of_slices],\n",
    "         'punctumSize': 2}\n",
    "\n",
    "resultVol = syn.getSynapseDetections(synaptic_volumes, query)\n",
    "\n",
    "output_mat, synapse_detections = evaluate_detections(resultVol)\n",
    "synapse_signal_mat[:, 0] = np.sum(output_mat, 1)\n",
    "print('Done with PSD, Synapsin Query')"
   ]
  },
  {
   "cell_type": "code",
   "execution_count": null,
   "metadata": {},
   "outputs": [],
   "source": [
    "output_mat.shape"
   ]
  },
  {
   "cell_type": "code",
   "execution_count": 8,
   "metadata": {},
   "outputs": [],
   "source": [
    "def evaluate_detections(resultVol): \n",
    "    \"\"\"\n",
    "    Evaluate RORB annotations with LM volume\n",
    "    \n",
    "    Parameters\n",
    "    --------------\n",
    "    resultVol : 3D numpy array \n",
    "    \n",
    "    Returns\n",
    "    --------------\n",
    "    output_mat  \n",
    "    detections\n",
    "    \"\"\"\n",
    "    \n",
    "    thresh  =  0.9\n",
    "    bw_vol  = resultVol > thresh\n",
    "    label_vol = measure.label(bw_vol > thresh)\n",
    "    stats = measure.regionprops(label_vol)\n",
    "    \n",
    "    \n",
    "    # Dilate detections \n",
    "    SE = morphology.generate_binary_structure(2, 2)\n",
    "    bw_vol_dilate = np.copy(bw_vol)\n",
    "    for z in range(0, bw_vol.shape[2]): \n",
    "        bw_vol_dilate[:, :, z] = morphology.binary_dilation(bw_vol[:, :, z], SE)\n",
    "        \n",
    "    #create mask \n",
    "    maskvol = np.zeros((460, 438, 49))\n",
    "    global_minx = 152\n",
    "    global_maxx = 288\n",
    "    global_miny = 149\n",
    "    global_maxy = 317\n",
    "    maskvol[global_minx:global_maxx, global_miny:global_maxy, :] = 1 \n",
    "    \n",
    "    # Mask detections to match label region\n",
    "    masked_detections_vol = maskvol*bw_vol_dilate\n",
    "    \n",
    "    # Run regionprops\n",
    "    label_vol = measure.label(masked_detections_vol)\n",
    "    detections = measure.regionprops(label_vol)\n",
    "    print('Number of detections: ', len(detections))\n",
    "    \n",
    "    detection_vol = np.copy(label_vol)\n",
    "\n",
    "    hit_count = 0\n",
    "    miss_count = 0\n",
    "    shape = (460, 438, 49)\n",
    "    output_mat = np.zeros((len(lm_labels_dict.keys()), len(detections)))\n",
    "\n",
    "    for label_ind, key in enumerate(lm_labels_dict.keys()): \n",
    "\n",
    "        synapse_label = lm_labels_dict[key]\n",
    "        single_label_vol = make_label_vol(synapse_label, shape) \n",
    "\n",
    "        label_detection_vol = single_label_vol*detection_vol\n",
    "        unique_vals = np.unique(label_detection_vol)\n",
    "\n",
    "        if len(unique_vals) > 1: \n",
    "            index = np.argwhere(unique_vals==0)\n",
    "            unique_vals = np.abs(np.delete(unique_vals, index))\n",
    "            output_mat[label_ind, unique_vals] = 1 \n",
    "            hit_count = hit_count + 1 \n",
    "        else: \n",
    "            miss_count = miss_count + 1 \n",
    "            \n",
    "    print('Hit Count: ', hit_count)\n",
    "    print('Miss Count: ', miss_count)\n",
    "\n",
    "    return output_mat, detections"
   ]
  },
  {
   "cell_type": "code",
   "execution_count": 9,
   "metadata": {},
   "outputs": [],
   "source": [
    "def make_label_vol(synapse_label, shape): \n",
    "    labelvol = np.zeros(shape, dtype=np.int64)\n",
    "    for n in range(0, synapse_label.shape[0]): \n",
    "        labelvol[synapse_label[n][0], synapse_label[n][1], synapse_label[n][2]] = -1\n",
    "    \n",
    "    return labelvol"
   ]
  },
  {
   "cell_type": "code",
   "execution_count": 10,
   "metadata": {},
   "outputs": [],
   "source": [
    "def make_clickable(val):\n",
    "    # target _blank to open new window\n",
    "    return '<a target=\"_blank\" href=\"{}\">{}</a>'.format(val, val)"
   ]
  },
  {
   "cell_type": "code",
   "execution_count": null,
   "metadata": {},
   "outputs": [],
   "source": [
    "ng_server=\"https://viz.boss.neurodata.io\"\n",
    "ng_url=\"https://viz.boss.neurodata.io/#!%7B'layers':%7B'em_clahe':%7B'type':'image'_'source':'boss://https://api.boss.neurodata.io/collman/M247514_Rorb_1_Site3Align2_EM/em_clahe'%7D_'PSD95':%7B'type':'image'_'source':'boss://https://api.boss.neurodata.io/collman/M247514_Rorb_1_Site3Align2_LENS_Session1_CROP/PSD95?'_'blend':'additive'_'color':1_'max':0.63%7D_'synapsin':%7B'type':'image'_'source':'boss://https://api.boss.neurodata.io/collman/M247514_Rorb_1_Site3Align2_LENS_Session1_CROP/synapsin?'_'blend':'additive'_'color':2_'max':0.66%7D_'m247514_Site3Annotation_MN_global':%7B'type':'segmentation'_'source':'boss://https://api.boss.neurodata.io/collman/M247514_Rorb_1_Site3Align2_EM/m247514_Site3Annotation_MN_global'%7D%7D_'navigation':%7B'pose':%7B'position':%7B'voxelSize':%5B96_96_50%5D_'voxelCoordinates':%5B251.3346405029297_256.0650939941406_23%5D%7D%7D_'zoomFactor':3.125%7D%7D\"\n",
    "state=neuroglancer.parse_url(ng_url)\n"
   ]
  },
  {
   "cell_type": "code",
   "execution_count": null,
   "metadata": {},
   "outputs": [],
   "source": [
    "# Generate URLs\n",
    "miss_count = 0\n",
    "keylist = list(lm_labels_dict.keys())\n",
    "htmllist = [] \n",
    "\n",
    "for label_ind in range(0, len(keylist)): \n",
    "    synapse_label = lm_labels_dict[keylist[label_ind]]\n",
    "    midpoint = np.mean(synapse_label, 0)\n",
    "    midpoint = np.round(midpoint)\n",
    "    miss_count = miss_count + 1 \n",
    "    state.position.voxelCoordinates=[midpoint[1],midpoint[0],midpoint[2]]\n",
    "    link = \"\"\"<a href=\"%s\">%s</a> \"\"\"%(neuroglancer.to_url(state,ng_server),'synapse_'+str(keylist[label_ind]))\n",
    "    htmllist.append(link)\n",
    "    \n",
    "\n"
   ]
  },
  {
   "cell_type": "code",
   "execution_count": null,
   "metadata": {},
   "outputs": [],
   "source": [
    "result_labels = ['Has PSD-95', 'Has Synapsin', 'Detected', 'link']\n",
    "df = pd.DataFrame(np.nan, index=keylist, columns=result_labels)\n",
    "df.iloc[:, 0] = 1*(overlap_signal_mat[:, 0] > 0)\n",
    "df.iloc[:, 1] = 1*(overlap_signal_mat[:, 1] > 0)\n",
    "df.iloc[:, 2] = 1*(synapse_signal_mat[:, 0] > 0)\n",
    "df.iloc[:, 3] = htmllist"
   ]
  },
  {
   "cell_type": "markdown",
   "metadata": {},
   "source": [
    "# Result Table \n",
    "\n",
    "To see the labeled synapse in NDViz, click the very last column. "
   ]
  },
  {
   "cell_type": "code",
   "execution_count": null,
   "metadata": {},
   "outputs": [],
   "source": [
    "df.style.format(make_clickable)"
   ]
  },
  {
   "cell_type": "code",
   "execution_count": null,
   "metadata": {},
   "outputs": [],
   "source": [
    "df.to_csv('/Users/anish/Documents/Connectome/rorb-analysis/test.csv')"
   ]
  },
  {
   "cell_type": "code",
   "execution_count": null,
   "metadata": {},
   "outputs": [],
   "source": []
  },
  {
   "cell_type": "code",
   "execution_count": null,
   "metadata": {},
   "outputs": [],
   "source": []
  }
 ],
 "metadata": {
  "kernelspec": {
   "display_name": "Python [conda env:synapse_analysis]",
   "language": "python",
   "name": "conda-env-synapse_analysis-py"
  },
  "language_info": {
   "codemirror_mode": {
    "name": "ipython",
    "version": 3
   },
   "file_extension": ".py",
   "mimetype": "text/x-python",
   "name": "python",
   "nbconvert_exporter": "python",
   "pygments_lexer": "ipython3",
   "version": "3.5.4"
  }
 },
 "nbformat": 4,
 "nbformat_minor": 2
}
