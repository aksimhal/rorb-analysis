{
 "cells": [
  {
   "cell_type": "code",
   "execution_count": null,
   "metadata": {},
   "outputs": [],
   "source": [
    "import numpy as np\n",
    "import matplotlib.pyplot as plt\n",
    "import time \n",
    "import sys\n",
    "import neuroglancer\n",
    "\n",
    "from tqdm import tqdm\n",
    "from skimage import io\n",
    "from ndpull import ndpull\n",
    "import pandas as pd \n",
    "from skimage import measure\n",
    "from scipy.ndimage import morphology\n",
    "from at_synapse_detection import dataAccess as da\n",
    "from at_synapse_detection import SynapseDetection as syn"
   ]
  },
  {
   "cell_type": "code",
   "execution_count": null,
   "metadata": {},
   "outputs": [],
   "source": [
    "%matplotlib notebook"
   ]
  },
  {
   "cell_type": "code",
   "execution_count": null,
   "metadata": {},
   "outputs": [],
   "source": [
    "# LM image filepaths \n",
    "psd_fn = 'collman_M247514_Rorb_1_Site3Align2_LENS_Session1_CROP_0_438_0_460_0_49/collman_M247514_Rorb_1_Site3Align2_LENS_Session1_CROP_0_438_0_460_0_49_PSD95_0.tiff'\n",
    "synapsin_fn = 'collman_M247514_Rorb_1_Site3Align2_LENS_Session1_CROP_0_438_0_460_0_49/collman_M247514_Rorb_1_Site3Align2_LENS_Session1_CROP_0_438_0_460_0_49_synapsin_0.tiff'\n",
    "\n",
    "# gaba_fn = 'collman_M247514_Rorb_1_Site3Align2_LENS_Session1_CROP_0_438_0_460_0_49/collman_M247514_Rorb_1_Site3Align2_LENS_Session1_CROP_0_438_0_460_0_49_GABA_0.tiff'\n",
    "# gad_fn = 'collman_M247514_Rorb_1_Site3Align2_LENS_Session1_CROP_0_438_0_460_0_49/collman_M247514_Rorb_1_Site3Align2_LENS_Session1_CROP_0_438_0_460_0_49_GAD2_0.tiff'\n",
    "# gephyrin_fn = 'collman_M247514_Rorb_1_Site3Align2_LENS_Session1_CROP_0_438_0_460_0_49/collman_M247514_Rorb_1_Site3Align2_LENS_Session1_CROP_0_438_0_460_0_49_Gephyrin_0.tiff'\n",
    "# glun1_fn = 'collman_M247514_Rorb_1_Site3Align2_LENS_Session1_CROP_0_438_0_460_0_49/collman_M247514_Rorb_1_Site3Align2_LENS_Session1_CROP_0_438_0_460_0_49_GluN1_0.tiff'\n",
    "# vglut1_fn = 'collman_M247514_Rorb_1_Site3Align2_LENS_Session1_CROP_0_438_0_460_0_49/collman_M247514_Rorb_1_Site3Align2_LENS_Session1_CROP_0_438_0_460_0_49_VGlut1_0.tiff'"
   ]
  },
  {
   "cell_type": "code",
   "execution_count": null,
   "metadata": {},
   "outputs": [],
   "source": [
    "fn_list = [psd_fn, synapsin_fn] #, gaba_fn, gad_fn, gephyrin_fn, glun1_fn, vglut1_fn]\n",
    "fn_name = ['PSD-95', 'Synapsin'] #, 'GABA', 'GAD', 'Gephyrin', 'GLUN1', 'VGLUT1']"
   ]
  },
  {
   "cell_type": "code",
   "execution_count": null,
   "metadata": {},
   "outputs": [],
   "source": [
    "# Load annotations \n",
    "lm_labels_dict = np.load('lm_labels_dict.npy').item()"
   ]
  },
  {
   "cell_type": "code",
   "execution_count": null,
   "metadata": {},
   "outputs": [],
   "source": [
    "def evaluate_detections(resultVol): \n",
    "    \"\"\"\n",
    "    Evaluate RORB annotations with LM volume\n",
    "    \n",
    "    Parameters\n",
    "    --------------\n",
    "    resultVol : 3D numpy array \n",
    "    \n",
    "    Returns\n",
    "    --------------\n",
    "    output_mat  \n",
    "    detections\n",
    "    \"\"\"\n",
    "    \n",
    "    thresh  =  0.9 # This is a constant\n",
    "    bw_vol  = resultVol > thresh\n",
    "#     label_vol = measure.label(bw_vol > thresh)\n",
    "#     stats = measure.regionprops(label_vol)\n",
    "    \n",
    "    # Dilate detections \n",
    "    SE = morphology.generate_binary_structure(2, 2)\n",
    "    bw_vol_dilate = np.copy(bw_vol)\n",
    "    for z in range(0, bw_vol.shape[2]): \n",
    "        bw_vol_dilate[:, :, z] = morphology.binary_dilation(bw_vol[:, :, z], SE)\n",
    "        \n",
    "    #create mask \n",
    "    maskvol = np.zeros((460, 438, 49))\n",
    "#     global_minx = 152\n",
    "#     global_maxx = 288\n",
    "#     global_miny = 149\n",
    "#     global_maxy = 317\n",
    "    global_minx = 145\n",
    "    global_maxx = 325\n",
    "    global_miny = 145\n",
    "    global_maxy = 325\n",
    "    maskvol[global_minx:global_maxx, global_miny:global_maxy, :] = 1 \n",
    "    \n",
    "    # Mask detections to match label region\n",
    "    masked_detections_vol = maskvol*bw_vol_dilate\n",
    "    \n",
    "    # Run regionprops\n",
    "    label_vol = measure.label(masked_detections_vol)\n",
    "    detections = measure.regionprops(label_vol)\n",
    "    print('Number of detections: ', len(detections))\n",
    "    \n",
    "    detection_vol = np.copy(label_vol)\n",
    "\n",
    "    hit_count = 0\n",
    "    miss_count = 0\n",
    "    shape = (460, 438, 49)\n",
    "    output_mat = np.zeros((len(lm_labels_dict.keys()), len(detections)))\n",
    "\n",
    "    for label_ind, key in enumerate(lm_labels_dict.keys()): \n",
    "\n",
    "        synapse_label = lm_labels_dict[key]\n",
    "        single_label_vol = make_label_vol(synapse_label, shape)\n",
    "\n",
    "        label_detection_vol = single_label_vol*detection_vol\n",
    "        unique_vals = np.unique(label_detection_vol)\n",
    "\n",
    "        if len(unique_vals) > 1: \n",
    "            index = np.argwhere(unique_vals==0)\n",
    "            unique_vals = np.abs(np.delete(unique_vals, index))\n",
    "            output_mat[label_ind, unique_vals] = 1 \n",
    "            hit_count = hit_count + 1 \n",
    "        else: \n",
    "            miss_count = miss_count + 1 \n",
    "            \n",
    "    print('Hit Count: ', hit_count)\n",
    "    print('Miss Count: ', miss_count)\n",
    "\n",
    "    return output_mat, detections"
   ]
  },
  {
   "cell_type": "code",
   "execution_count": null,
   "metadata": {},
   "outputs": [],
   "source": [
    "def make_label_vol(synapse_label, shape): \n",
    "    \"\"\"This returns a volume of all zeros, expect where the synapse_label indicates. Those values are -1\"\"\"\n",
    "    labelvol = np.zeros(shape, dtype=np.int64)\n",
    "    for n in range(0, synapse_label.shape[0]): \n",
    "        labelvol[synapse_label[n][0], synapse_label[n][1], synapse_label[n][2]] = -1\n",
    "    \n",
    "    return labelvol"
   ]
  },
  {
   "cell_type": "code",
   "execution_count": null,
   "metadata": {},
   "outputs": [],
   "source": [
    "def make_clickable(val):\n",
    "    # target _blank to open new window\n",
    "    return '<a target=\"_blank\" href=\"{}\">{}</a>'.format(val, val)"
   ]
  },
  {
   "cell_type": "markdown",
   "metadata": {},
   "source": [
    "See which annotations overlap with a channel"
   ]
  },
  {
   "cell_type": "code",
   "execution_count": null,
   "metadata": {},
   "outputs": [],
   "source": [
    "# Evaluate LM signal overlap with labels\n",
    "lm_overlap = np.zeros((len(lm_labels_dict.keys()), len(fn_list)))\n",
    "lm_detections = [] \n",
    "lm_output_mat_list = [] \n",
    "\n",
    "for fn_ind, fn in enumerate(fn_list): \n",
    "    vol = da.imreadtiff(fn)\n",
    "    synaptic_volumes = {'presynaptic': [], 'postsynaptic': [vol]}\n",
    "    min_num_of_slices = 1\n",
    "    # Create query\n",
    "    query = {'preIF': ['presynaptic'], 'preIF_z': [],\n",
    "             'postIF': ['postsynaptic'], 'postIF_z': [min_num_of_slices],\n",
    "             'punctumSize': 2}\n",
    "    \n",
    "    resultVol = syn.getSynapseDetections(synaptic_volumes, query) \n",
    "    output_mat, detections = evaluate_detections(resultVol)\n",
    "    \n",
    "    lm_detections.append(detections)\n",
    "    lm_output_mat_list.append(output_mat)\n",
    "    \n",
    "    lm_overlap[:, fn_ind] = np.sum(output_mat, 1)\n",
    "    \n",
    "    print('Done with ', fn_name[fn_ind])"
   ]
  },
  {
   "cell_type": "markdown",
   "metadata": {},
   "source": [
    "Evaluate Synapse Detection "
   ]
  },
  {
   "cell_type": "code",
   "execution_count": null,
   "metadata": {},
   "outputs": [],
   "source": [
    "synapse_signal_mat = np.zeros((len(lm_labels_dict.keys()), 1))\n",
    "\n",
    "psd_vol = da.imreadtiff(psd_fn)\n",
    "synapsin_vol = da.imreadtiff(synapsin_fn)\n",
    "\n",
    "synaptic_volumes = {'presynaptic': [synapsin_vol], 'postsynaptic': [psd_vol]}\n",
    "min_num_of_slices = 1\n",
    "\n",
    "# Create query\n",
    "query = {'preIF': ['presynaptic'], 'preIF_z': [min_num_of_slices],\n",
    "         'postIF': ['postsynaptic'], 'postIF_z': [min_num_of_slices],\n",
    "         'punctumSize': 2}\n",
    "\n",
    "resultVol = syn.getSynapseDetections(synaptic_volumes, query)\n",
    "\n",
    "output_mat, synapse_detections = evaluate_detections(resultVol)\n",
    "synapse_signal_mat[:, 0] = np.sum(output_mat, 1)\n",
    "print('Done with PSD, Synapsin Query')"
   ]
  },
  {
   "cell_type": "code",
   "execution_count": null,
   "metadata": {},
   "outputs": [],
   "source": [
    "# output_mat, synapse_detections = evaluate_detections(resultVol)\n",
    "# synapse_signal_mat[:, 0] = np.sum(output_mat, 1)\n",
    "# print('Done with PSD, Synapsin Query')"
   ]
  },
  {
   "cell_type": "code",
   "execution_count": null,
   "metadata": {},
   "outputs": [],
   "source": [
    "output_mat.shape"
   ]
  },
  {
   "cell_type": "markdown",
   "metadata": {},
   "source": [
    "Create neuroglancer links"
   ]
  },
  {
   "cell_type": "code",
   "execution_count": null,
   "metadata": {},
   "outputs": [],
   "source": [
    "ng_server=\"https://viz.boss.neurodata.io\"\n",
    "ng_url=\"https://viz.boss.neurodata.io/#!%7B'layers':%7B'em_clahe':%7B'type':'image'_'source':'boss://https://api.boss.neurodata.io/collman/M247514_Rorb_1_Site3Align2_EM/em_clahe'%7D_'PSD95':%7B'type':'image'_'source':'boss://https://api.boss.neurodata.io/collman/M247514_Rorb_1_Site3Align2_LENS_Session1_CROP/PSD95?'_'blend':'additive'_'color':1_'max':0.63%7D_'synapsin':%7B'type':'image'_'source':'boss://https://api.boss.neurodata.io/collman/M247514_Rorb_1_Site3Align2_LENS_Session1_CROP/synapsin?'_'blend':'additive'_'color':2_'max':0.66%7D_'m247514_Site3Annotation_MN_global':%7B'type':'segmentation'_'source':'boss://https://api.boss.neurodata.io/collman/M247514_Rorb_1_Site3Align2_EM/m247514_Site3Annotation_MN_global'%7D%7D_'navigation':%7B'pose':%7B'position':%7B'voxelSize':%5B96_96_50%5D_'voxelCoordinates':%5B251.3346405029297_256.0650939941406_23%5D%7D%7D_'zoomFactor':3.125%7D%7D\"\n",
    "state=neuroglancer.parse_url(ng_url)\n"
   ]
  },
  {
   "cell_type": "code",
   "execution_count": null,
   "metadata": {},
   "outputs": [],
   "source": [
    "# Generate URLs\n",
    "miss_count = 0\n",
    "keylist = list(lm_labels_dict.keys())\n",
    "htmllist = [] \n",
    "\n",
    "for label_ind in range(0, len(keylist)): \n",
    "    synapse_label = lm_labels_dict[keylist[label_ind]]\n",
    "    midpoint = np.mean(synapse_label, 0)\n",
    "    midpoint = np.round(midpoint)\n",
    "    miss_count = miss_count + 1 \n",
    "    state.position.voxelCoordinates=[midpoint[1],midpoint[0],midpoint[2]]\n",
    "    link = \"\"\"<a href=\"%s\">%s</a> \"\"\"%(neuroglancer.to_url(state,ng_server),'synapse_'+str(keylist[label_ind]))\n",
    "    htmllist.append(link)\n",
    "    \n",
    "\n"
   ]
  },
  {
   "cell_type": "code",
   "execution_count": null,
   "metadata": {},
   "outputs": [],
   "source": [
    "result_labels = ['Has PSD-95', 'Has Synapsin', 'Detected', 'link']\n",
    "df = pd.DataFrame(np.nan, index=keylist, columns=result_labels)\n",
    "df.iloc[:, 0] = 1*(lm_overlap[:, 0] > 0)\n",
    "df.iloc[:, 1] = 1*(lm_overlap[:, 1] > 0)\n",
    "df.iloc[:, 2] = 1*(synapse_signal_mat[:, 0] > 0)\n",
    "df.iloc[:, 3] = htmllist"
   ]
  },
  {
   "cell_type": "markdown",
   "metadata": {},
   "source": [
    "# Result Table \n",
    "\n",
    "To see the labeled synapse in NDViz, click the very last column. "
   ]
  },
  {
   "cell_type": "code",
   "execution_count": null,
   "metadata": {},
   "outputs": [],
   "source": [
    "df.style.format(make_clickable)"
   ]
  },
  {
   "cell_type": "code",
   "execution_count": null,
   "metadata": {},
   "outputs": [],
   "source": [
    "df.to_csv('/Users/anish/Documents/Connectome/rorb-analysis/test.csv')"
   ]
  },
  {
   "cell_type": "code",
   "execution_count": null,
   "metadata": {},
   "outputs": [],
   "source": []
  },
  {
   "cell_type": "markdown",
   "metadata": {},
   "source": [
    "### Create histograms"
   ]
  },
  {
   "cell_type": "markdown",
   "metadata": {},
   "source": [
    "Number of detections per EM-synapse-label"
   ]
  },
  {
   "cell_type": "code",
   "execution_count": null,
   "metadata": {},
   "outputs": [],
   "source": [
    "split_anno_list = []\n",
    "keylist = list(lm_labels_dict.keys())\n",
    "\n",
    "for label_ind, key in enumerate(keylist): \n",
    "    zlabel = lm_labels_dict[key][:, 2]\n",
    "    zlabel = np.unique(zlabel)\n",
    "    diff_zlabel = np.diff(zlabel)\n",
    "    if any(diff_zlabel > 1): \n",
    "        print(key)\n",
    "        split_anno_list.append(key)\n",
    " "
   ]
  },
  {
   "cell_type": "code",
   "execution_count": null,
   "metadata": {},
   "outputs": [],
   "source": [
    "detections_per_emlabel = np.sum(output_mat, 1)"
   ]
  },
  {
   "cell_type": "code",
   "execution_count": null,
   "metadata": {},
   "outputs": [],
   "source": [
    "zero_hits = 0 \n",
    "one_hit = 0 \n",
    "two_hits = 0 \n",
    "nopsd = 0\n",
    "nosynapsin = 0\n",
    "splitanno = 0 \n",
    "\n",
    "miss_list = [] \n",
    "hit_list = [] \n",
    "\n",
    "\n",
    "overlap_with_psd = (lm_overlap[:, 0])\n",
    "overlap_with_synapsin = (lm_overlap[:, 1])\n",
    "\n",
    "for label_ind in range(0, len(keylist)): \n",
    "    \n",
    "    if overlap_with_psd[label_ind] > 0: \n",
    "        if overlap_with_synapsin[label_ind] > 0:\n",
    "            \n",
    "            if keylist[label_ind] not in split_anno_list: \n",
    "                if detections_per_emlabel[label_ind]==0: \n",
    "                    zero_hits = zero_hits + 1\n",
    "                    miss_list.append(keylist[label_ind])\n",
    "                elif detections_per_emlabel[label_ind]==1: \n",
    "                    one_hit = one_hit + 1 \n",
    "                    hit_list.append(keylist[label_ind])\n",
    "                else: \n",
    "                    two_hits = two_hits + 1 \n",
    "                    hit_list.append(keylist[label_ind])\n",
    "            else: \n",
    "                splitanno = splitanno + 1\n",
    "        else: \n",
    "            nosynapsin = nosynapsin + 1 \n",
    "    else: \n",
    "        nopsd = nopsd + 1\n",
    "        \n",
    "total_labels = zero_hits+one_hit+two_hits\n",
    "print(\"No PSD: \", nopsd)\n",
    "print(\"No Synapsin: \", nosynapsin)\n",
    "print('Split Anno', splitanno)\n",
    "print('Zero Hits: ', zero_hits)\n",
    "print('One Hit: ', one_hit)\n",
    "print('Two Hits: ', two_hits)\n",
    "print('Percentage of labels detected: ', (one_hit+two_hits)/total_labels)"
   ]
  },
  {
   "cell_type": "code",
   "execution_count": null,
   "metadata": {},
   "outputs": [],
   "source": [
    "plt.figure()\n",
    "plt.bar([0, 1, 2], [zero_hits/total_labels, one_hit/total_labels, two_hits/total_labels])\n",
    "plt.ylabel('percentage')\n",
    "plt.title('Number of detections per EM-synapse-label')\n",
    "plt.xticks([0, 1, 2], ['0 Overlap', '1 Overlap', '2+ Overlap'])"
   ]
  },
  {
   "cell_type": "code",
   "execution_count": null,
   "metadata": {},
   "outputs": [],
   "source": []
  },
  {
   "cell_type": "code",
   "execution_count": null,
   "metadata": {},
   "outputs": [],
   "source": [
    "def get_labeled_detections(fn):\n",
    "    \"\"\"Process individual IF channel \"\"\"\n",
    "    \n",
    "    vol = da.imreadtiff(fn)\n",
    "    synaptic_volumes = {'presynaptic': [], 'postsynaptic': [vol]}\n",
    "    min_num_of_slices = 1\n",
    "    query = {'preIF': ['presynaptic'], 'preIF_z': [],\n",
    "             'postIF': ['postsynaptic'], 'postIF_z': [min_num_of_slices],\n",
    "             'punctumSize': 2}\n",
    "\n",
    "    prob_vol = syn.getSynapseDetections(synaptic_volumes, query) \n",
    "\n",
    "    thresh  =  0.9 \n",
    "    bw_vol  = prob_vol > thresh\n",
    "\n",
    "    # Dilate detections \n",
    "    SE = morphology.generate_binary_structure(2, 2)\n",
    "    bw_vol_dilate = np.copy(bw_vol)\n",
    "    for z in range(0, bw_vol.shape[2]): \n",
    "        bw_vol_dilate[:, :, z] = morphology.binary_dilation(bw_vol[:, :, z], SE)\n",
    "\n",
    "    #create mask \n",
    "    maskvol = np.zeros((460, 438, 49))\n",
    "    global_minx = 145\n",
    "    global_maxx = 325\n",
    "    global_miny = 145\n",
    "    global_maxy = 325\n",
    "    maskvol[global_minx:global_maxx, global_miny:global_maxy, :] = 1 \n",
    "\n",
    "    # Mask detections to match label region\n",
    "    masked_detections_vol = maskvol*bw_vol_dilate\n",
    "\n",
    "    # Run regionprops\n",
    "    detection_label_vol = measure.label(masked_detections_vol)\n",
    "    detections = measure.regionprops(detection_label_vol)\n",
    "    print('Number of detections: ', len(detections))\n",
    "\n",
    "    return detection_label_vol, detections"
   ]
  },
  {
   "cell_type": "code",
   "execution_count": null,
   "metadata": {},
   "outputs": [],
   "source": [
    "def get_z_inds(single_label_vol, IF_detection_vol, IF_detections): \n",
    "\n",
    "    label_detection_vol = single_label_vol*IF_detection_vol\n",
    "    unique_vals = np.unique(label_detection_vol)\n",
    "\n",
    "    if len(unique_vals) > 1: \n",
    "        index = np.argwhere(unique_vals==0)\n",
    "        unique_vals = np.abs(np.delete(unique_vals, index))\n",
    "\n",
    "    z_inds = np.unique(IF_detections[unique_vals[0]-1].coords[:, 2])\n",
    "    \n",
    "    centroid = IF_detections[unique_vals[0]-1].centroid\n",
    "    \n",
    "    return z_inds, centroid"
   ]
  },
  {
   "cell_type": "code",
   "execution_count": null,
   "metadata": {},
   "outputs": [],
   "source": [
    "psd_detection_vol, psd_detections = get_labeled_detections(fn_list[0])\n",
    "synapsin_detection_vol, synapsin_detections = get_labeled_detections(fn_list[1])\n",
    "\n"
   ]
  },
  {
   "cell_type": "code",
   "execution_count": null,
   "metadata": {},
   "outputs": [],
   "source": [
    "a = synapsin_detections[3].centroid"
   ]
  },
  {
   "cell_type": "code",
   "execution_count": null,
   "metadata": {},
   "outputs": [],
   "source": [
    "b = psd_detections[3].centroid"
   ]
  },
  {
   "cell_type": "code",
   "execution_count": null,
   "metadata": {},
   "outputs": [],
   "source": [
    "a, b"
   ]
  },
  {
   "cell_type": "code",
   "execution_count": null,
   "metadata": {},
   "outputs": [],
   "source": [
    "np.power((a[0]-b[0]), 2)"
   ]
  },
  {
   "cell_type": "code",
   "execution_count": null,
   "metadata": {
    "scrolled": true
   },
   "outputs": [],
   "source": [
    "def get_dist(a, b): \n",
    "    dist = np.sqrt(np.power((a[0]-b[0]), 2) + np.power((a[1]-b[1]), 2) + np.power((a[2]-b[2]), 2))\n",
    "    return dist"
   ]
  },
  {
   "cell_type": "code",
   "execution_count": null,
   "metadata": {},
   "outputs": [],
   "source": [
    "disjoint_signal = 0 \n",
    "distance_between_blobs = []\n",
    "\n",
    "for key in miss_list: \n",
    "    synapse_label = lm_labels_dict[key]\n",
    "    single_label_vol = make_label_vol(synapse_label, shape)\n",
    "\n",
    "    psd_z_inds, psd_centroid = get_z_inds(single_label_vol, psd_detection_vol, psd_detections)\n",
    "    synapsin_z_inds, synapsin_centroid = get_z_inds(single_label_vol, synapsin_detection_vol, synapsin_detections)\n",
    "\n",
    "    result = set(synapsin_z_inds).intersection(psd_z_inds)\n",
    "    \n",
    "    if len(result) == 0: \n",
    "#         print(key)\n",
    "#         print('psd z inds', psd_z_inds)\n",
    "#         print('synapsin z inds', synapsin_z_inds)\n",
    "        disjoint_signal = disjoint_signal + 1 \n",
    "        \n",
    "    dist = get_dist(psd_centroid, synapsin_centroid)\n",
    "    distance_between_blobs.append(dist)\n",
    "    \n",
    "    \n",
    "print(\"disjoint_signal\", disjoint_signal)\n"
   ]
  },
  {
   "cell_type": "code",
   "execution_count": null,
   "metadata": {},
   "outputs": [],
   "source": [
    "np.mean(distance_between_blobs)"
   ]
  },
  {
   "cell_type": "code",
   "execution_count": null,
   "metadata": {},
   "outputs": [],
   "source": [
    "30/120"
   ]
  },
  {
   "cell_type": "code",
   "execution_count": null,
   "metadata": {},
   "outputs": [],
   "source": [
    "hit_list"
   ]
  },
  {
   "cell_type": "code",
   "execution_count": null,
   "metadata": {},
   "outputs": [],
   "source": [
    "disjoint_signal = 0 \n",
    "distance_between_blobs = []\n",
    "\n",
    "for key in hit_list: \n",
    "    synapse_label = lm_labels_dict[key]\n",
    "    single_label_vol = make_label_vol(synapse_label, shape)\n",
    "\n",
    "    psd_z_inds, psd_centroid = get_z_inds(single_label_vol, psd_detection_vol, psd_detections)\n",
    "    synapsin_z_inds, synapsin_centroid = get_z_inds(single_label_vol, synapsin_detection_vol, synapsin_detections)\n",
    "\n",
    "    result = set(synapsin_z_inds).intersection(psd_z_inds)\n",
    "    \n",
    "    if len(result) == 0: \n",
    "        disjoint_signal = disjoint_signal + 1 \n",
    "        \n",
    "    dist = get_dist(psd_centroid, synapsin_centroid)\n",
    "    distance_between_blobs.append(dist)\n",
    "    \n",
    "    \n",
    "print(\"disjoint_signal\", disjoint_signal)\n"
   ]
  },
  {
   "cell_type": "code",
   "execution_count": null,
   "metadata": {},
   "outputs": [],
   "source": [
    "distance_between_blobs"
   ]
  },
  {
   "cell_type": "code",
   "execution_count": null,
   "metadata": {},
   "outputs": [],
   "source": []
  }
 ],
 "metadata": {
  "kernelspec": {
   "display_name": "Python [conda env:synapse_analysis]",
   "language": "python",
   "name": "conda-env-synapse_analysis-py"
  },
  "language_info": {
   "codemirror_mode": {
    "name": "ipython",
    "version": 3
   },
   "file_extension": ".py",
   "mimetype": "text/x-python",
   "name": "python",
   "nbconvert_exporter": "python",
   "pygments_lexer": "ipython3",
   "version": "3.5.4"
  }
 },
 "nbformat": 4,
 "nbformat_minor": 2
}
