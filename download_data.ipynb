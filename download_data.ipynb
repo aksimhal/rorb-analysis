{
 "cells": [
  {
   "cell_type": "code",
   "execution_count": null,
   "metadata": {
    "collapsed": true
   },
   "outputs": [],
   "source": [
    "import numpy as np\n",
    "from ndpull import ndpull\n"
   ]
  },
  {
   "cell_type": "code",
   "execution_count": null,
   "metadata": {
    "collapsed": true
   },
   "outputs": [],
   "source": [
    "collection = 'collman'\n",
    "experiment = 'M247514_Rorb_1_Site3Align2_EM'\n",
    "channel = 'm247514_Site3Annotation_MN_global'\n",
    "\n",
    "# see neurodata.cfg.example to generate your own\n",
    "config_file = 'neurodata.cfg'"
   ]
  },
  {
   "cell_type": "code",
   "execution_count": null,
   "metadata": {},
   "outputs": [],
   "source": [
    "# download slices with these limits:\n",
    "x = [0, 14020]\n",
    "y = [0, 14723]\n",
    "z = [0, 49]\n",
    "\n",
    "# print metadata\n",
    "meta = ndpull.BossMeta(collection, experiment, channel)\n",
    "token, boss_url = ndpull.get_boss_config(config_file)\n",
    "args = ndpull.collect_input_args(\n",
    "    collection, experiment, channel, config_file, x=x, y=y, z=z, res=0, outdir='./')\n",
    "# returns a namespace as a way of passing arguments\n",
    "result, rmt = ndpull.validate_args(args)\n",
    "\n",
    "rmt = ndpull.BossRemote(boss_url, token, meta)\n",
    "print(rmt)  # prints metadata"
   ]
  },
  {
   "cell_type": "code",
   "execution_count": null,
   "metadata": {},
   "outputs": [],
   "source": [
    "# downloads the data\n",
    "ndpull.download_slices(result, rmt)"
   ]
  },
  {
   "cell_type": "code",
   "execution_count": null,
   "metadata": {},
   "outputs": [],
   "source": [
    "rmt"
   ]
  },
  {
   "cell_type": "code",
   "execution_count": null,
   "metadata": {
    "collapsed": true
   },
   "outputs": [],
   "source": []
  }
 ],
 "metadata": {
  "kernelspec": {
   "display_name": "Python [conda env:synapse_analysis]",
   "language": "python",
   "name": "conda-env-synapse_analysis-py"
  },
  "language_info": {
   "codemirror_mode": {
    "name": "ipython",
    "version": 3
   },
   "file_extension": ".py",
   "mimetype": "text/x-python",
   "name": "python",
   "nbconvert_exporter": "python",
   "pygments_lexer": "ipython3",
   "version": "3.5.4"
  }
 },
 "nbformat": 4,
 "nbformat_minor": 2
}
